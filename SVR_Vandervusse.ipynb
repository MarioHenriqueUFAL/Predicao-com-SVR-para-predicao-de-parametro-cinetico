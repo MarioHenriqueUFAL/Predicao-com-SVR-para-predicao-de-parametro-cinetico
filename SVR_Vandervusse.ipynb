{
  "nbformat": 4,
  "nbformat_minor": 0,
  "metadata": {
    "colab": {
      "name": "SVR_Vandervusse.ipynb",
      "provenance": []
    },
    "kernelspec": {
      "name": "python3",
      "display_name": "Python 3"
    },
    "language_info": {
      "name": "python"
    }
  },
  "cells": [
    {
      "cell_type": "markdown",
      "source": [
        "Regressão com vetores de suporte - base reator com reação de Van der Vusse"
      ],
      "metadata": {
        "id": "4wMuhtLH7NTG"
      }
    },
    {
      "cell_type": "code",
      "execution_count": null,
      "metadata": {
        "id": "jU1dvZKb7H3P"
      },
      "outputs": [],
      "source": [
        "import pandas as pd\n",
        "import seaborn as sns\n",
        "from sklearn.model_selection import train_test_split\n",
        "from sklearn.linear_model import LinearRegression\n",
        "from sklearn.metrics import mean_absolute_error\n",
        "import matplotlib.pyplot as plt\n",
        "from sklearn.metrics import mean_squared_error"
      ]
    },
    {
      "cell_type": "code",
      "source": [
        "base_cstr_vv = pd.read_csv('dados_gerados.csv')"
      ],
      "metadata": {
        "id": "ocE5YpJa8b6G"
      },
      "execution_count": null,
      "outputs": []
    },
    {
      "cell_type": "code",
      "source": [
        "base_cstr_vv"
      ],
      "metadata": {
        "colab": {
          "base_uri": "https://localhost:8080/",
          "height": 423
        },
        "id": "AQMedFqz8893",
        "outputId": "516433c6-595a-4935-d22d-e77731ff8cb2"
      },
      "execution_count": null,
      "outputs": [
        {
          "output_type": "execute_result",
          "data": {
            "text/html": [
              "\n",
              "  <div id=\"df-1e926e16-dcab-4f11-bbbb-6807de5d3886\">\n",
              "    <div class=\"colab-df-container\">\n",
              "      <div>\n",
              "<style scoped>\n",
              "    .dataframe tbody tr th:only-of-type {\n",
              "        vertical-align: middle;\n",
              "    }\n",
              "\n",
              "    .dataframe tbody tr th {\n",
              "        vertical-align: top;\n",
              "    }\n",
              "\n",
              "    .dataframe thead th {\n",
              "        text-align: right;\n",
              "    }\n",
              "</style>\n",
              "<table border=\"1\" class=\"dataframe\">\n",
              "  <thead>\n",
              "    <tr style=\"text-align: right;\">\n",
              "      <th></th>\n",
              "      <th>qr (k-2)</th>\n",
              "      <th>qr (k-1)</th>\n",
              "      <th>Qc (k-2)</th>\n",
              "      <th>Qc (k-1)</th>\n",
              "      <th>Ca0 (k-2)</th>\n",
              "      <th>Ca0 (k-1)</th>\n",
              "      <th>Tr0 (k-2)</th>\n",
              "      <th>Tr0 (k-1)</th>\n",
              "      <th>Cb (k-2)</th>\n",
              "      <th>Cb (k-1)</th>\n",
              "      <th>Cb (k)</th>\n",
              "    </tr>\n",
              "  </thead>\n",
              "  <tbody>\n",
              "    <tr>\n",
              "      <th>0</th>\n",
              "      <td>0.002365</td>\n",
              "      <td>0.002365</td>\n",
              "      <td>-18.56</td>\n",
              "      <td>-18.560000</td>\n",
              "      <td>5.100000</td>\n",
              "      <td>5.100000</td>\n",
              "      <td>387.050000</td>\n",
              "      <td>387.050000</td>\n",
              "      <td>0.924392</td>\n",
              "      <td>0.924392</td>\n",
              "      <td>0.924392</td>\n",
              "    </tr>\n",
              "    <tr>\n",
              "      <th>1</th>\n",
              "      <td>0.002365</td>\n",
              "      <td>0.002365</td>\n",
              "      <td>-18.56</td>\n",
              "      <td>-19.543231</td>\n",
              "      <td>5.100000</td>\n",
              "      <td>5.100000</td>\n",
              "      <td>387.050000</td>\n",
              "      <td>383.485512</td>\n",
              "      <td>0.924392</td>\n",
              "      <td>0.924392</td>\n",
              "      <td>0.923102</td>\n",
              "    </tr>\n",
              "    <tr>\n",
              "      <th>2</th>\n",
              "      <td>0.002365</td>\n",
              "      <td>0.002365</td>\n",
              "      <td>-18.56</td>\n",
              "      <td>-19.543231</td>\n",
              "      <td>5.100000</td>\n",
              "      <td>5.100000</td>\n",
              "      <td>383.485512</td>\n",
              "      <td>394.549809</td>\n",
              "      <td>0.924392</td>\n",
              "      <td>0.923102</td>\n",
              "      <td>0.924097</td>\n",
              "    </tr>\n",
              "    <tr>\n",
              "      <th>3</th>\n",
              "      <td>0.002365</td>\n",
              "      <td>0.002365</td>\n",
              "      <td>-18.56</td>\n",
              "      <td>-20.960884</td>\n",
              "      <td>5.100000</td>\n",
              "      <td>5.100000</td>\n",
              "      <td>394.549809</td>\n",
              "      <td>394.549809</td>\n",
              "      <td>0.923102</td>\n",
              "      <td>0.924097</td>\n",
              "      <td>0.929479</td>\n",
              "    </tr>\n",
              "    <tr>\n",
              "      <th>4</th>\n",
              "      <td>0.002365</td>\n",
              "      <td>0.002365</td>\n",
              "      <td>-18.56</td>\n",
              "      <td>-22.778393</td>\n",
              "      <td>5.100000</td>\n",
              "      <td>4.594992</td>\n",
              "      <td>394.549809</td>\n",
              "      <td>394.549809</td>\n",
              "      <td>0.924097</td>\n",
              "      <td>0.929479</td>\n",
              "      <td>0.935636</td>\n",
              "    </tr>\n",
              "    <tr>\n",
              "      <th>...</th>\n",
              "      <td>...</td>\n",
              "      <td>...</td>\n",
              "      <td>...</td>\n",
              "      <td>...</td>\n",
              "      <td>...</td>\n",
              "      <td>...</td>\n",
              "      <td>...</td>\n",
              "      <td>...</td>\n",
              "      <td>...</td>\n",
              "      <td>...</td>\n",
              "      <td>...</td>\n",
              "    </tr>\n",
              "    <tr>\n",
              "      <th>994</th>\n",
              "      <td>0.006922</td>\n",
              "      <td>0.007435</td>\n",
              "      <td>-18.56</td>\n",
              "      <td>-69.280162</td>\n",
              "      <td>11.031876</td>\n",
              "      <td>11.636975</td>\n",
              "      <td>453.915729</td>\n",
              "      <td>453.915729</td>\n",
              "      <td>1.829764</td>\n",
              "      <td>1.994663</td>\n",
              "      <td>2.102339</td>\n",
              "    </tr>\n",
              "    <tr>\n",
              "      <th>995</th>\n",
              "      <td>0.007435</td>\n",
              "      <td>0.007487</td>\n",
              "      <td>-18.56</td>\n",
              "      <td>-69.280162</td>\n",
              "      <td>11.636975</td>\n",
              "      <td>11.636975</td>\n",
              "      <td>453.915729</td>\n",
              "      <td>437.468546</td>\n",
              "      <td>1.994663</td>\n",
              "      <td>2.102339</td>\n",
              "      <td>2.118053</td>\n",
              "    </tr>\n",
              "    <tr>\n",
              "      <th>996</th>\n",
              "      <td>0.007487</td>\n",
              "      <td>0.007399</td>\n",
              "      <td>-18.56</td>\n",
              "      <td>-69.280162</td>\n",
              "      <td>11.636975</td>\n",
              "      <td>11.636975</td>\n",
              "      <td>437.468546</td>\n",
              "      <td>437.468546</td>\n",
              "      <td>2.102339</td>\n",
              "      <td>2.118053</td>\n",
              "      <td>2.104473</td>\n",
              "    </tr>\n",
              "    <tr>\n",
              "      <th>997</th>\n",
              "      <td>0.007399</td>\n",
              "      <td>0.007399</td>\n",
              "      <td>-18.56</td>\n",
              "      <td>-69.280162</td>\n",
              "      <td>11.636975</td>\n",
              "      <td>11.636975</td>\n",
              "      <td>437.468546</td>\n",
              "      <td>437.468546</td>\n",
              "      <td>2.118053</td>\n",
              "      <td>2.104473</td>\n",
              "      <td>2.091972</td>\n",
              "    </tr>\n",
              "    <tr>\n",
              "      <th>998</th>\n",
              "      <td>0.007399</td>\n",
              "      <td>0.007688</td>\n",
              "      <td>-18.56</td>\n",
              "      <td>-65.759999</td>\n",
              "      <td>11.636975</td>\n",
              "      <td>12.492781</td>\n",
              "      <td>437.468546</td>\n",
              "      <td>437.468546</td>\n",
              "      <td>2.104473</td>\n",
              "      <td>2.091972</td>\n",
              "      <td>2.088196</td>\n",
              "    </tr>\n",
              "  </tbody>\n",
              "</table>\n",
              "<p>999 rows × 11 columns</p>\n",
              "</div>\n",
              "      <button class=\"colab-df-convert\" onclick=\"convertToInteractive('df-1e926e16-dcab-4f11-bbbb-6807de5d3886')\"\n",
              "              title=\"Convert this dataframe to an interactive table.\"\n",
              "              style=\"display:none;\">\n",
              "        \n",
              "  <svg xmlns=\"http://www.w3.org/2000/svg\" height=\"24px\"viewBox=\"0 0 24 24\"\n",
              "       width=\"24px\">\n",
              "    <path d=\"M0 0h24v24H0V0z\" fill=\"none\"/>\n",
              "    <path d=\"M18.56 5.44l.94 2.06.94-2.06 2.06-.94-2.06-.94-.94-2.06-.94 2.06-2.06.94zm-11 1L8.5 8.5l.94-2.06 2.06-.94-2.06-.94L8.5 2.5l-.94 2.06-2.06.94zm10 10l.94 2.06.94-2.06 2.06-.94-2.06-.94-.94-2.06-.94 2.06-2.06.94z\"/><path d=\"M17.41 7.96l-1.37-1.37c-.4-.4-.92-.59-1.43-.59-.52 0-1.04.2-1.43.59L10.3 9.45l-7.72 7.72c-.78.78-.78 2.05 0 2.83L4 21.41c.39.39.9.59 1.41.59.51 0 1.02-.2 1.41-.59l7.78-7.78 2.81-2.81c.8-.78.8-2.07 0-2.86zM5.41 20L4 18.59l7.72-7.72 1.47 1.35L5.41 20z\"/>\n",
              "  </svg>\n",
              "      </button>\n",
              "      \n",
              "  <style>\n",
              "    .colab-df-container {\n",
              "      display:flex;\n",
              "      flex-wrap:wrap;\n",
              "      gap: 12px;\n",
              "    }\n",
              "\n",
              "    .colab-df-convert {\n",
              "      background-color: #E8F0FE;\n",
              "      border: none;\n",
              "      border-radius: 50%;\n",
              "      cursor: pointer;\n",
              "      display: none;\n",
              "      fill: #1967D2;\n",
              "      height: 32px;\n",
              "      padding: 0 0 0 0;\n",
              "      width: 32px;\n",
              "    }\n",
              "\n",
              "    .colab-df-convert:hover {\n",
              "      background-color: #E2EBFA;\n",
              "      box-shadow: 0px 1px 2px rgba(60, 64, 67, 0.3), 0px 1px 3px 1px rgba(60, 64, 67, 0.15);\n",
              "      fill: #174EA6;\n",
              "    }\n",
              "\n",
              "    [theme=dark] .colab-df-convert {\n",
              "      background-color: #3B4455;\n",
              "      fill: #D2E3FC;\n",
              "    }\n",
              "\n",
              "    [theme=dark] .colab-df-convert:hover {\n",
              "      background-color: #434B5C;\n",
              "      box-shadow: 0px 1px 3px 1px rgba(0, 0, 0, 0.15);\n",
              "      filter: drop-shadow(0px 1px 2px rgba(0, 0, 0, 0.3));\n",
              "      fill: #FFFFFF;\n",
              "    }\n",
              "  </style>\n",
              "\n",
              "      <script>\n",
              "        const buttonEl =\n",
              "          document.querySelector('#df-1e926e16-dcab-4f11-bbbb-6807de5d3886 button.colab-df-convert');\n",
              "        buttonEl.style.display =\n",
              "          google.colab.kernel.accessAllowed ? 'block' : 'none';\n",
              "\n",
              "        async function convertToInteractive(key) {\n",
              "          const element = document.querySelector('#df-1e926e16-dcab-4f11-bbbb-6807de5d3886');\n",
              "          const dataTable =\n",
              "            await google.colab.kernel.invokeFunction('convertToInteractive',\n",
              "                                                     [key], {});\n",
              "          if (!dataTable) return;\n",
              "\n",
              "          const docLinkHtml = 'Like what you see? Visit the ' +\n",
              "            '<a target=\"_blank\" href=https://colab.research.google.com/notebooks/data_table.ipynb>data table notebook</a>'\n",
              "            + ' to learn more about interactive tables.';\n",
              "          element.innerHTML = '';\n",
              "          dataTable['output_type'] = 'display_data';\n",
              "          await google.colab.output.renderOutput(dataTable, element);\n",
              "          const docLink = document.createElement('div');\n",
              "          docLink.innerHTML = docLinkHtml;\n",
              "          element.appendChild(docLink);\n",
              "        }\n",
              "      </script>\n",
              "    </div>\n",
              "  </div>\n",
              "  "
            ],
            "text/plain": [
              "     qr (k-2)  qr (k-1)  Qc (k-2)  ...  Cb (k-2)  Cb (k-1)    Cb (k)\n",
              "0    0.002365  0.002365    -18.56  ...  0.924392  0.924392  0.924392\n",
              "1    0.002365  0.002365    -18.56  ...  0.924392  0.924392  0.923102\n",
              "2    0.002365  0.002365    -18.56  ...  0.924392  0.923102  0.924097\n",
              "3    0.002365  0.002365    -18.56  ...  0.923102  0.924097  0.929479\n",
              "4    0.002365  0.002365    -18.56  ...  0.924097  0.929479  0.935636\n",
              "..        ...       ...       ...  ...       ...       ...       ...\n",
              "994  0.006922  0.007435    -18.56  ...  1.829764  1.994663  2.102339\n",
              "995  0.007435  0.007487    -18.56  ...  1.994663  2.102339  2.118053\n",
              "996  0.007487  0.007399    -18.56  ...  2.102339  2.118053  2.104473\n",
              "997  0.007399  0.007399    -18.56  ...  2.118053  2.104473  2.091972\n",
              "998  0.007399  0.007688    -18.56  ...  2.104473  2.091972  2.088196\n",
              "\n",
              "[999 rows x 11 columns]"
            ]
          },
          "metadata": {},
          "execution_count": 57
        }
      ]
    },
    {
      "cell_type": "code",
      "source": [
        "base_cstr_vv.describe()"
      ],
      "metadata": {
        "colab": {
          "base_uri": "https://localhost:8080/",
          "height": 300
        },
        "id": "HAh56OBb9Z4G",
        "outputId": "63cfc6b5-51df-4710-95a8-1c110b9152f9"
      },
      "execution_count": null,
      "outputs": [
        {
          "output_type": "execute_result",
          "data": {
            "text/html": [
              "\n",
              "  <div id=\"df-cfbfb608-3cc4-47a3-835b-af01658482e2\">\n",
              "    <div class=\"colab-df-container\">\n",
              "      <div>\n",
              "<style scoped>\n",
              "    .dataframe tbody tr th:only-of-type {\n",
              "        vertical-align: middle;\n",
              "    }\n",
              "\n",
              "    .dataframe tbody tr th {\n",
              "        vertical-align: top;\n",
              "    }\n",
              "\n",
              "    .dataframe thead th {\n",
              "        text-align: right;\n",
              "    }\n",
              "</style>\n",
              "<table border=\"1\" class=\"dataframe\">\n",
              "  <thead>\n",
              "    <tr style=\"text-align: right;\">\n",
              "      <th></th>\n",
              "      <th>qr (k-2)</th>\n",
              "      <th>qr (k-1)</th>\n",
              "      <th>Qc (k-2)</th>\n",
              "      <th>Qc (k-1)</th>\n",
              "      <th>Ca0 (k-2)</th>\n",
              "      <th>Ca0 (k-1)</th>\n",
              "      <th>Tr0 (k-2)</th>\n",
              "      <th>Tr0 (k-1)</th>\n",
              "      <th>Cb (k-2)</th>\n",
              "      <th>Cb (k-1)</th>\n",
              "      <th>Cb (k)</th>\n",
              "    </tr>\n",
              "  </thead>\n",
              "  <tbody>\n",
              "    <tr>\n",
              "      <th>count</th>\n",
              "      <td>999.000000</td>\n",
              "      <td>999.000000</td>\n",
              "      <td>9.990000e+02</td>\n",
              "      <td>999.000000</td>\n",
              "      <td>999.000000</td>\n",
              "      <td>999.000000</td>\n",
              "      <td>999.000000</td>\n",
              "      <td>999.000000</td>\n",
              "      <td>999.000000</td>\n",
              "      <td>999.000000</td>\n",
              "      <td>999.000000</td>\n",
              "    </tr>\n",
              "    <tr>\n",
              "      <th>mean</th>\n",
              "      <td>0.004596</td>\n",
              "      <td>0.004602</td>\n",
              "      <td>-1.856000e+01</td>\n",
              "      <td>-68.730252</td>\n",
              "      <td>10.022591</td>\n",
              "      <td>10.029991</td>\n",
              "      <td>473.942250</td>\n",
              "      <td>473.992719</td>\n",
              "      <td>0.334723</td>\n",
              "      <td>0.335891</td>\n",
              "      <td>0.337056</td>\n",
              "    </tr>\n",
              "    <tr>\n",
              "      <th>std</th>\n",
              "      <td>0.004535</td>\n",
              "      <td>0.004536</td>\n",
              "      <td>7.108986e-15</td>\n",
              "      <td>37.291265</td>\n",
              "      <td>3.668986</td>\n",
              "      <td>3.666502</td>\n",
              "      <td>92.771702</td>\n",
              "      <td>92.738093</td>\n",
              "      <td>0.530090</td>\n",
              "      <td>0.532672</td>\n",
              "      <td>0.535227</td>\n",
              "    </tr>\n",
              "    <tr>\n",
              "      <th>min</th>\n",
              "      <td>0.000783</td>\n",
              "      <td>0.000783</td>\n",
              "      <td>-1.856000e+01</td>\n",
              "      <td>-180.169526</td>\n",
              "      <td>4.438063</td>\n",
              "      <td>4.438063</td>\n",
              "      <td>286.387940</td>\n",
              "      <td>286.387940</td>\n",
              "      <td>0.000263</td>\n",
              "      <td>0.000263</td>\n",
              "      <td>0.000263</td>\n",
              "    </tr>\n",
              "    <tr>\n",
              "      <th>25%</th>\n",
              "      <td>0.001119</td>\n",
              "      <td>0.001119</td>\n",
              "      <td>-1.856000e+01</td>\n",
              "      <td>-95.643968</td>\n",
              "      <td>7.059555</td>\n",
              "      <td>7.064578</td>\n",
              "      <td>402.631835</td>\n",
              "      <td>403.290034</td>\n",
              "      <td>0.016100</td>\n",
              "      <td>0.016100</td>\n",
              "      <td>0.016100</td>\n",
              "    </tr>\n",
              "    <tr>\n",
              "      <th>50%</th>\n",
              "      <td>0.002075</td>\n",
              "      <td>0.002075</td>\n",
              "      <td>-1.856000e+01</td>\n",
              "      <td>-63.520324</td>\n",
              "      <td>9.835156</td>\n",
              "      <td>9.835156</td>\n",
              "      <td>480.255244</td>\n",
              "      <td>480.255244</td>\n",
              "      <td>0.067426</td>\n",
              "      <td>0.067426</td>\n",
              "      <td>0.067426</td>\n",
              "    </tr>\n",
              "    <tr>\n",
              "      <th>75%</th>\n",
              "      <td>0.008292</td>\n",
              "      <td>0.008292</td>\n",
              "      <td>-1.856000e+01</td>\n",
              "      <td>-36.107487</td>\n",
              "      <td>11.639000</td>\n",
              "      <td>11.639000</td>\n",
              "      <td>536.426236</td>\n",
              "      <td>536.426236</td>\n",
              "      <td>0.398444</td>\n",
              "      <td>0.398444</td>\n",
              "      <td>0.398444</td>\n",
              "    </tr>\n",
              "    <tr>\n",
              "      <th>max</th>\n",
              "      <td>0.015167</td>\n",
              "      <td>0.015167</td>\n",
              "      <td>-1.856000e+01</td>\n",
              "      <td>-18.560000</td>\n",
              "      <td>22.418186</td>\n",
              "      <td>22.418186</td>\n",
              "      <td>702.206017</td>\n",
              "      <td>702.206017</td>\n",
              "      <td>2.493671</td>\n",
              "      <td>2.493671</td>\n",
              "      <td>2.493671</td>\n",
              "    </tr>\n",
              "  </tbody>\n",
              "</table>\n",
              "</div>\n",
              "      <button class=\"colab-df-convert\" onclick=\"convertToInteractive('df-cfbfb608-3cc4-47a3-835b-af01658482e2')\"\n",
              "              title=\"Convert this dataframe to an interactive table.\"\n",
              "              style=\"display:none;\">\n",
              "        \n",
              "  <svg xmlns=\"http://www.w3.org/2000/svg\" height=\"24px\"viewBox=\"0 0 24 24\"\n",
              "       width=\"24px\">\n",
              "    <path d=\"M0 0h24v24H0V0z\" fill=\"none\"/>\n",
              "    <path d=\"M18.56 5.44l.94 2.06.94-2.06 2.06-.94-2.06-.94-.94-2.06-.94 2.06-2.06.94zm-11 1L8.5 8.5l.94-2.06 2.06-.94-2.06-.94L8.5 2.5l-.94 2.06-2.06.94zm10 10l.94 2.06.94-2.06 2.06-.94-2.06-.94-.94-2.06-.94 2.06-2.06.94z\"/><path d=\"M17.41 7.96l-1.37-1.37c-.4-.4-.92-.59-1.43-.59-.52 0-1.04.2-1.43.59L10.3 9.45l-7.72 7.72c-.78.78-.78 2.05 0 2.83L4 21.41c.39.39.9.59 1.41.59.51 0 1.02-.2 1.41-.59l7.78-7.78 2.81-2.81c.8-.78.8-2.07 0-2.86zM5.41 20L4 18.59l7.72-7.72 1.47 1.35L5.41 20z\"/>\n",
              "  </svg>\n",
              "      </button>\n",
              "      \n",
              "  <style>\n",
              "    .colab-df-container {\n",
              "      display:flex;\n",
              "      flex-wrap:wrap;\n",
              "      gap: 12px;\n",
              "    }\n",
              "\n",
              "    .colab-df-convert {\n",
              "      background-color: #E8F0FE;\n",
              "      border: none;\n",
              "      border-radius: 50%;\n",
              "      cursor: pointer;\n",
              "      display: none;\n",
              "      fill: #1967D2;\n",
              "      height: 32px;\n",
              "      padding: 0 0 0 0;\n",
              "      width: 32px;\n",
              "    }\n",
              "\n",
              "    .colab-df-convert:hover {\n",
              "      background-color: #E2EBFA;\n",
              "      box-shadow: 0px 1px 2px rgba(60, 64, 67, 0.3), 0px 1px 3px 1px rgba(60, 64, 67, 0.15);\n",
              "      fill: #174EA6;\n",
              "    }\n",
              "\n",
              "    [theme=dark] .colab-df-convert {\n",
              "      background-color: #3B4455;\n",
              "      fill: #D2E3FC;\n",
              "    }\n",
              "\n",
              "    [theme=dark] .colab-df-convert:hover {\n",
              "      background-color: #434B5C;\n",
              "      box-shadow: 0px 1px 3px 1px rgba(0, 0, 0, 0.15);\n",
              "      filter: drop-shadow(0px 1px 2px rgba(0, 0, 0, 0.3));\n",
              "      fill: #FFFFFF;\n",
              "    }\n",
              "  </style>\n",
              "\n",
              "      <script>\n",
              "        const buttonEl =\n",
              "          document.querySelector('#df-cfbfb608-3cc4-47a3-835b-af01658482e2 button.colab-df-convert');\n",
              "        buttonEl.style.display =\n",
              "          google.colab.kernel.accessAllowed ? 'block' : 'none';\n",
              "\n",
              "        async function convertToInteractive(key) {\n",
              "          const element = document.querySelector('#df-cfbfb608-3cc4-47a3-835b-af01658482e2');\n",
              "          const dataTable =\n",
              "            await google.colab.kernel.invokeFunction('convertToInteractive',\n",
              "                                                     [key], {});\n",
              "          if (!dataTable) return;\n",
              "\n",
              "          const docLinkHtml = 'Like what you see? Visit the ' +\n",
              "            '<a target=\"_blank\" href=https://colab.research.google.com/notebooks/data_table.ipynb>data table notebook</a>'\n",
              "            + ' to learn more about interactive tables.';\n",
              "          element.innerHTML = '';\n",
              "          dataTable['output_type'] = 'display_data';\n",
              "          await google.colab.output.renderOutput(dataTable, element);\n",
              "          const docLink = document.createElement('div');\n",
              "          docLink.innerHTML = docLinkHtml;\n",
              "          element.appendChild(docLink);\n",
              "        }\n",
              "      </script>\n",
              "    </div>\n",
              "  </div>\n",
              "  "
            ],
            "text/plain": [
              "         qr (k-2)    qr (k-1)      Qc (k-2)  ...    Cb (k-2)    Cb (k-1)      Cb (k)\n",
              "count  999.000000  999.000000  9.990000e+02  ...  999.000000  999.000000  999.000000\n",
              "mean     0.004596    0.004602 -1.856000e+01  ...    0.334723    0.335891    0.337056\n",
              "std      0.004535    0.004536  7.108986e-15  ...    0.530090    0.532672    0.535227\n",
              "min      0.000783    0.000783 -1.856000e+01  ...    0.000263    0.000263    0.000263\n",
              "25%      0.001119    0.001119 -1.856000e+01  ...    0.016100    0.016100    0.016100\n",
              "50%      0.002075    0.002075 -1.856000e+01  ...    0.067426    0.067426    0.067426\n",
              "75%      0.008292    0.008292 -1.856000e+01  ...    0.398444    0.398444    0.398444\n",
              "max      0.015167    0.015167 -1.856000e+01  ...    2.493671    2.493671    2.493671\n",
              "\n",
              "[8 rows x 11 columns]"
            ]
          },
          "metadata": {},
          "execution_count": 58
        }
      ]
    },
    {
      "cell_type": "code",
      "source": [
        "base_cstr_vv.isnull().sum()"
      ],
      "metadata": {
        "colab": {
          "base_uri": "https://localhost:8080/"
        },
        "id": "vjGiENvw-FZ2",
        "outputId": "7612f896-f792-4da4-fe00-0d2f178b353e"
      },
      "execution_count": null,
      "outputs": [
        {
          "output_type": "execute_result",
          "data": {
            "text/plain": [
              "qr (k-2)     0\n",
              "qr (k-1)     0\n",
              "Qc (k-2)     0\n",
              "Qc (k-1)     0\n",
              "Ca0 (k-2)    0\n",
              "Ca0 (k-1)    0\n",
              "Tr0 (k-2)    0\n",
              "Tr0 (k-1)    0\n",
              "Cb (k-2)     0\n",
              "Cb (k-1)     0\n",
              "Cb (k)       0\n",
              "dtype: int64"
            ]
          },
          "metadata": {},
          "execution_count": 59
        }
      ]
    },
    {
      "cell_type": "code",
      "source": [
        "base_cstr_vv.corr()"
      ],
      "metadata": {
        "colab": {
          "base_uri": "https://localhost:8080/",
          "height": 394
        },
        "id": "ut2KvTvt-LsW",
        "outputId": "594a1db6-bbf8-452d-edf7-17d8c54a5e10"
      },
      "execution_count": null,
      "outputs": [
        {
          "output_type": "execute_result",
          "data": {
            "text/html": [
              "\n",
              "  <div id=\"df-9452d7e8-94be-4659-9b5c-470067c6d71a\">\n",
              "    <div class=\"colab-df-container\">\n",
              "      <div>\n",
              "<style scoped>\n",
              "    .dataframe tbody tr th:only-of-type {\n",
              "        vertical-align: middle;\n",
              "    }\n",
              "\n",
              "    .dataframe tbody tr th {\n",
              "        vertical-align: top;\n",
              "    }\n",
              "\n",
              "    .dataframe thead th {\n",
              "        text-align: right;\n",
              "    }\n",
              "</style>\n",
              "<table border=\"1\" class=\"dataframe\">\n",
              "  <thead>\n",
              "    <tr style=\"text-align: right;\">\n",
              "      <th></th>\n",
              "      <th>qr (k-2)</th>\n",
              "      <th>qr (k-1)</th>\n",
              "      <th>Qc (k-2)</th>\n",
              "      <th>Qc (k-1)</th>\n",
              "      <th>Ca0 (k-2)</th>\n",
              "      <th>Ca0 (k-1)</th>\n",
              "      <th>Tr0 (k-2)</th>\n",
              "      <th>Tr0 (k-1)</th>\n",
              "      <th>Cb (k-2)</th>\n",
              "      <th>Cb (k-1)</th>\n",
              "      <th>Cb (k)</th>\n",
              "    </tr>\n",
              "  </thead>\n",
              "  <tbody>\n",
              "    <tr>\n",
              "      <th>qr (k-2)</th>\n",
              "      <td>1.000000</td>\n",
              "      <td>0.998182</td>\n",
              "      <td>NaN</td>\n",
              "      <td>-0.798919</td>\n",
              "      <td>0.633780</td>\n",
              "      <td>0.629474</td>\n",
              "      <td>-0.692191</td>\n",
              "      <td>-0.695200</td>\n",
              "      <td>0.234383</td>\n",
              "      <td>0.232972</td>\n",
              "      <td>0.231529</td>\n",
              "    </tr>\n",
              "    <tr>\n",
              "      <th>qr (k-1)</th>\n",
              "      <td>0.998182</td>\n",
              "      <td>1.000000</td>\n",
              "      <td>NaN</td>\n",
              "      <td>-0.801411</td>\n",
              "      <td>0.638406</td>\n",
              "      <td>0.633935</td>\n",
              "      <td>-0.690436</td>\n",
              "      <td>-0.693096</td>\n",
              "      <td>0.237439</td>\n",
              "      <td>0.236017</td>\n",
              "      <td>0.234609</td>\n",
              "    </tr>\n",
              "    <tr>\n",
              "      <th>Qc (k-2)</th>\n",
              "      <td>NaN</td>\n",
              "      <td>NaN</td>\n",
              "      <td>NaN</td>\n",
              "      <td>NaN</td>\n",
              "      <td>NaN</td>\n",
              "      <td>NaN</td>\n",
              "      <td>NaN</td>\n",
              "      <td>NaN</td>\n",
              "      <td>NaN</td>\n",
              "      <td>NaN</td>\n",
              "      <td>NaN</td>\n",
              "    </tr>\n",
              "    <tr>\n",
              "      <th>Qc (k-1)</th>\n",
              "      <td>-0.798919</td>\n",
              "      <td>-0.801411</td>\n",
              "      <td>NaN</td>\n",
              "      <td>1.000000</td>\n",
              "      <td>-0.849174</td>\n",
              "      <td>-0.846825</td>\n",
              "      <td>0.492422</td>\n",
              "      <td>0.498554</td>\n",
              "      <td>-0.216205</td>\n",
              "      <td>-0.216833</td>\n",
              "      <td>-0.217210</td>\n",
              "    </tr>\n",
              "    <tr>\n",
              "      <th>Ca0 (k-2)</th>\n",
              "      <td>0.633780</td>\n",
              "      <td>0.638406</td>\n",
              "      <td>NaN</td>\n",
              "      <td>-0.849174</td>\n",
              "      <td>1.000000</td>\n",
              "      <td>0.993729</td>\n",
              "      <td>-0.242431</td>\n",
              "      <td>-0.247917</td>\n",
              "      <td>0.156154</td>\n",
              "      <td>0.155383</td>\n",
              "      <td>0.154129</td>\n",
              "    </tr>\n",
              "    <tr>\n",
              "      <th>Ca0 (k-1)</th>\n",
              "      <td>0.629474</td>\n",
              "      <td>0.633935</td>\n",
              "      <td>NaN</td>\n",
              "      <td>-0.846825</td>\n",
              "      <td>0.993729</td>\n",
              "      <td>1.000000</td>\n",
              "      <td>-0.238747</td>\n",
              "      <td>-0.244210</td>\n",
              "      <td>0.160337</td>\n",
              "      <td>0.159214</td>\n",
              "      <td>0.158431</td>\n",
              "    </tr>\n",
              "    <tr>\n",
              "      <th>Tr0 (k-2)</th>\n",
              "      <td>-0.692191</td>\n",
              "      <td>-0.690436</td>\n",
              "      <td>NaN</td>\n",
              "      <td>0.492422</td>\n",
              "      <td>-0.242431</td>\n",
              "      <td>-0.238747</td>\n",
              "      <td>1.000000</td>\n",
              "      <td>0.977373</td>\n",
              "      <td>-0.184926</td>\n",
              "      <td>-0.188864</td>\n",
              "      <td>-0.194671</td>\n",
              "    </tr>\n",
              "    <tr>\n",
              "      <th>Tr0 (k-1)</th>\n",
              "      <td>-0.695200</td>\n",
              "      <td>-0.693096</td>\n",
              "      <td>NaN</td>\n",
              "      <td>0.498554</td>\n",
              "      <td>-0.247917</td>\n",
              "      <td>-0.244210</td>\n",
              "      <td>0.977373</td>\n",
              "      <td>1.000000</td>\n",
              "      <td>-0.180814</td>\n",
              "      <td>-0.184358</td>\n",
              "      <td>-0.188289</td>\n",
              "    </tr>\n",
              "    <tr>\n",
              "      <th>Cb (k-2)</th>\n",
              "      <td>0.234383</td>\n",
              "      <td>0.237439</td>\n",
              "      <td>NaN</td>\n",
              "      <td>-0.216205</td>\n",
              "      <td>0.156154</td>\n",
              "      <td>0.160337</td>\n",
              "      <td>-0.184926</td>\n",
              "      <td>-0.180814</td>\n",
              "      <td>1.000000</td>\n",
              "      <td>0.988805</td>\n",
              "      <td>0.959398</td>\n",
              "    </tr>\n",
              "    <tr>\n",
              "      <th>Cb (k-1)</th>\n",
              "      <td>0.232972</td>\n",
              "      <td>0.236017</td>\n",
              "      <td>NaN</td>\n",
              "      <td>-0.216833</td>\n",
              "      <td>0.155383</td>\n",
              "      <td>0.159214</td>\n",
              "      <td>-0.188864</td>\n",
              "      <td>-0.184358</td>\n",
              "      <td>0.988805</td>\n",
              "      <td>1.000000</td>\n",
              "      <td>0.988913</td>\n",
              "    </tr>\n",
              "    <tr>\n",
              "      <th>Cb (k)</th>\n",
              "      <td>0.231529</td>\n",
              "      <td>0.234609</td>\n",
              "      <td>NaN</td>\n",
              "      <td>-0.217210</td>\n",
              "      <td>0.154129</td>\n",
              "      <td>0.158431</td>\n",
              "      <td>-0.194671</td>\n",
              "      <td>-0.188289</td>\n",
              "      <td>0.959398</td>\n",
              "      <td>0.988913</td>\n",
              "      <td>1.000000</td>\n",
              "    </tr>\n",
              "  </tbody>\n",
              "</table>\n",
              "</div>\n",
              "      <button class=\"colab-df-convert\" onclick=\"convertToInteractive('df-9452d7e8-94be-4659-9b5c-470067c6d71a')\"\n",
              "              title=\"Convert this dataframe to an interactive table.\"\n",
              "              style=\"display:none;\">\n",
              "        \n",
              "  <svg xmlns=\"http://www.w3.org/2000/svg\" height=\"24px\"viewBox=\"0 0 24 24\"\n",
              "       width=\"24px\">\n",
              "    <path d=\"M0 0h24v24H0V0z\" fill=\"none\"/>\n",
              "    <path d=\"M18.56 5.44l.94 2.06.94-2.06 2.06-.94-2.06-.94-.94-2.06-.94 2.06-2.06.94zm-11 1L8.5 8.5l.94-2.06 2.06-.94-2.06-.94L8.5 2.5l-.94 2.06-2.06.94zm10 10l.94 2.06.94-2.06 2.06-.94-2.06-.94-.94-2.06-.94 2.06-2.06.94z\"/><path d=\"M17.41 7.96l-1.37-1.37c-.4-.4-.92-.59-1.43-.59-.52 0-1.04.2-1.43.59L10.3 9.45l-7.72 7.72c-.78.78-.78 2.05 0 2.83L4 21.41c.39.39.9.59 1.41.59.51 0 1.02-.2 1.41-.59l7.78-7.78 2.81-2.81c.8-.78.8-2.07 0-2.86zM5.41 20L4 18.59l7.72-7.72 1.47 1.35L5.41 20z\"/>\n",
              "  </svg>\n",
              "      </button>\n",
              "      \n",
              "  <style>\n",
              "    .colab-df-container {\n",
              "      display:flex;\n",
              "      flex-wrap:wrap;\n",
              "      gap: 12px;\n",
              "    }\n",
              "\n",
              "    .colab-df-convert {\n",
              "      background-color: #E8F0FE;\n",
              "      border: none;\n",
              "      border-radius: 50%;\n",
              "      cursor: pointer;\n",
              "      display: none;\n",
              "      fill: #1967D2;\n",
              "      height: 32px;\n",
              "      padding: 0 0 0 0;\n",
              "      width: 32px;\n",
              "    }\n",
              "\n",
              "    .colab-df-convert:hover {\n",
              "      background-color: #E2EBFA;\n",
              "      box-shadow: 0px 1px 2px rgba(60, 64, 67, 0.3), 0px 1px 3px 1px rgba(60, 64, 67, 0.15);\n",
              "      fill: #174EA6;\n",
              "    }\n",
              "\n",
              "    [theme=dark] .colab-df-convert {\n",
              "      background-color: #3B4455;\n",
              "      fill: #D2E3FC;\n",
              "    }\n",
              "\n",
              "    [theme=dark] .colab-df-convert:hover {\n",
              "      background-color: #434B5C;\n",
              "      box-shadow: 0px 1px 3px 1px rgba(0, 0, 0, 0.15);\n",
              "      filter: drop-shadow(0px 1px 2px rgba(0, 0, 0, 0.3));\n",
              "      fill: #FFFFFF;\n",
              "    }\n",
              "  </style>\n",
              "\n",
              "      <script>\n",
              "        const buttonEl =\n",
              "          document.querySelector('#df-9452d7e8-94be-4659-9b5c-470067c6d71a button.colab-df-convert');\n",
              "        buttonEl.style.display =\n",
              "          google.colab.kernel.accessAllowed ? 'block' : 'none';\n",
              "\n",
              "        async function convertToInteractive(key) {\n",
              "          const element = document.querySelector('#df-9452d7e8-94be-4659-9b5c-470067c6d71a');\n",
              "          const dataTable =\n",
              "            await google.colab.kernel.invokeFunction('convertToInteractive',\n",
              "                                                     [key], {});\n",
              "          if (!dataTable) return;\n",
              "\n",
              "          const docLinkHtml = 'Like what you see? Visit the ' +\n",
              "            '<a target=\"_blank\" href=https://colab.research.google.com/notebooks/data_table.ipynb>data table notebook</a>'\n",
              "            + ' to learn more about interactive tables.';\n",
              "          element.innerHTML = '';\n",
              "          dataTable['output_type'] = 'display_data';\n",
              "          await google.colab.output.renderOutput(dataTable, element);\n",
              "          const docLink = document.createElement('div');\n",
              "          docLink.innerHTML = docLinkHtml;\n",
              "          element.appendChild(docLink);\n",
              "        }\n",
              "      </script>\n",
              "    </div>\n",
              "  </div>\n",
              "  "
            ],
            "text/plain": [
              "           qr (k-2)  qr (k-1)  Qc (k-2)  ...  Cb (k-2)  Cb (k-1)    Cb (k)\n",
              "qr (k-2)   1.000000  0.998182       NaN  ...  0.234383  0.232972  0.231529\n",
              "qr (k-1)   0.998182  1.000000       NaN  ...  0.237439  0.236017  0.234609\n",
              "Qc (k-2)        NaN       NaN       NaN  ...       NaN       NaN       NaN\n",
              "Qc (k-1)  -0.798919 -0.801411       NaN  ... -0.216205 -0.216833 -0.217210\n",
              "Ca0 (k-2)  0.633780  0.638406       NaN  ...  0.156154  0.155383  0.154129\n",
              "Ca0 (k-1)  0.629474  0.633935       NaN  ...  0.160337  0.159214  0.158431\n",
              "Tr0 (k-2) -0.692191 -0.690436       NaN  ... -0.184926 -0.188864 -0.194671\n",
              "Tr0 (k-1) -0.695200 -0.693096       NaN  ... -0.180814 -0.184358 -0.188289\n",
              "Cb (k-2)   0.234383  0.237439       NaN  ...  1.000000  0.988805  0.959398\n",
              "Cb (k-1)   0.232972  0.236017       NaN  ...  0.988805  1.000000  0.988913\n",
              "Cb (k)     0.231529  0.234609       NaN  ...  0.959398  0.988913  1.000000\n",
              "\n",
              "[11 rows x 11 columns]"
            ]
          },
          "metadata": {},
          "execution_count": 60
        }
      ]
    },
    {
      "cell_type": "markdown",
      "source": [
        "Criar conjunto de dados de atributos previsores (ou atributos de entrada)"
      ],
      "metadata": {
        "id": "Dgoqb_Cc_0FU"
      }
    },
    {
      "cell_type": "code",
      "source": [
        "X_base = base_cstr_vv.iloc[:,0:10].values\n",
        "X_base"
      ],
      "metadata": {
        "colab": {
          "base_uri": "https://localhost:8080/"
        },
        "id": "hm8piQtf-58U",
        "outputId": "7f70053e-4d76-4778-d64e-44bbcb1043e2"
      },
      "execution_count": null,
      "outputs": [
        {
          "output_type": "execute_result",
          "data": {
            "text/plain": [
              "array([[ 2.36500000e-03,  2.36500000e-03, -1.85600000e+01, ...,\n",
              "         3.87050000e+02,  9.24392032e-01,  9.24392032e-01],\n",
              "       [ 2.36500000e-03,  2.36500000e-03, -1.85600000e+01, ...,\n",
              "         3.83485512e+02,  9.24392032e-01,  9.24392032e-01],\n",
              "       [ 2.36500000e-03,  2.36500000e-03, -1.85600000e+01, ...,\n",
              "         3.94549809e+02,  9.24392032e-01,  9.23102000e-01],\n",
              "       ...,\n",
              "       [ 7.48691347e-03,  7.39888290e-03, -1.85600000e+01, ...,\n",
              "         4.37468546e+02,  2.10233942e+00,  2.11805319e+00],\n",
              "       [ 7.39888290e-03,  7.39888290e-03, -1.85600000e+01, ...,\n",
              "         4.37468546e+02,  2.11805319e+00,  2.10447295e+00],\n",
              "       [ 7.39888290e-03,  7.68834974e-03, -1.85600000e+01, ...,\n",
              "         4.37468546e+02,  2.10447295e+00,  2.09197195e+00]])"
            ]
          },
          "metadata": {},
          "execution_count": 61
        }
      ]
    },
    {
      "cell_type": "code",
      "source": [
        "Y_base = base_cstr_vv.iloc[:,10].values\n",
        "Y_base"
      ],
      "metadata": {
        "colab": {
          "base_uri": "https://localhost:8080/"
        },
        "id": "oFskSBCtAJ1v",
        "outputId": "d7f2c046-b6d9-46b6-a545-c4f2965584f4"
      },
      "execution_count": null,
      "outputs": [
        {
          "output_type": "execute_result",
          "data": {
            "text/plain": [
              "array([9.24392032e-01, 9.23102000e-01, 9.24096877e-01, 9.29478884e-01,\n",
              "       9.35635588e-01, 9.32432772e-01, 9.19352455e-01, 9.02450952e-01,\n",
              "       8.74740743e-01, 8.52408377e-01, 8.54853737e-01, 8.87704239e-01,\n",
              "       9.45317729e-01, 1.00438015e+00, 1.04749670e+00, 1.08571841e+00,\n",
              "       1.10855369e+00, 1.11492225e+00, 1.12921463e+00, 1.14383464e+00,\n",
              "       1.15555593e+00, 1.17352976e+00, 1.18208897e+00, 1.15921793e+00,\n",
              "       1.11533795e+00, 1.06585022e+00, 1.01871968e+00, 9.19637930e-01,\n",
              "       7.19295538e-01, 5.05795696e-01, 3.70520193e-01, 3.11615062e-01,\n",
              "       2.66689279e-01, 2.58329088e-01, 2.76354698e-01, 2.88068239e-01,\n",
              "       2.95731696e-01, 3.12456621e-01, 3.22942115e-01, 3.15707446e-01,\n",
              "       3.17169059e-01, 3.25876576e-01, 3.49050437e-01, 3.89205651e-01,\n",
              "       4.32446274e-01, 4.87330900e-01, 5.42551434e-01, 5.73387820e-01,\n",
              "       5.71078935e-01, 5.42755976e-01, 4.95153104e-01, 4.15618346e-01,\n",
              "       3.55910113e-01, 3.28954413e-01, 3.10191328e-01, 2.82576299e-01,\n",
              "       2.47752602e-01, 2.05075004e-01, 1.89363964e-01, 1.67109974e-01,\n",
              "       1.54288430e-01, 1.26404360e-01, 1.14307514e-01, 1.14302705e-01,\n",
              "       1.03354861e-01, 9.48596823e-02, 8.55863252e-02, 7.50690314e-02,\n",
              "       7.37431526e-02, 6.94528756e-02, 5.42537893e-02, 4.23268924e-02,\n",
              "       3.96806948e-02, 4.05333408e-02, 3.88177648e-02, 4.06799361e-02,\n",
              "       4.44924922e-02, 4.82069046e-02, 4.94258724e-02, 5.12846564e-02,\n",
              "       5.15922569e-02, 5.21539924e-02, 5.08704887e-02, 5.24128039e-02,\n",
              "       5.39871790e-02, 4.68641670e-02, 4.60700011e-02, 4.62612422e-02,\n",
              "       4.57762577e-02, 4.52624753e-02, 4.66601694e-02, 4.75488321e-02,\n",
              "       5.56090608e-02, 5.95087153e-02, 5.88614886e-02, 7.02878187e-02,\n",
              "       7.97610242e-02, 8.14797566e-02, 7.70136341e-02, 7.22640536e-02,\n",
              "       6.58075675e-02, 5.44618680e-02, 6.44870617e-02, 7.09111680e-02,\n",
              "       8.34225156e-02, 8.81259132e-02, 9.39758970e-02, 9.31742468e-02,\n",
              "       8.82588707e-02, 8.54457404e-02, 8.82526052e-02, 7.92356546e-02,\n",
              "       8.23789929e-02, 7.70629710e-02, 8.16796240e-02, 7.88054713e-02,\n",
              "       6.63126773e-02, 6.21094538e-02, 5.67158323e-02, 5.10307109e-02,\n",
              "       4.34610731e-02, 3.48265859e-02, 3.55029219e-02, 3.18349085e-02,\n",
              "       2.34947112e-02, 1.71779143e-02, 1.68975729e-02, 1.43359707e-02,\n",
              "       1.23683147e-02, 1.17886812e-02, 1.17482750e-02, 1.09059718e-02,\n",
              "       1.24533524e-02, 1.28787956e-02, 1.31261367e-02, 1.29959414e-02,\n",
              "       1.37944632e-02, 1.61140775e-02, 1.84700432e-02, 2.08862391e-02,\n",
              "       2.41850098e-02, 2.77236219e-02, 2.80277607e-02, 3.10408423e-02,\n",
              "       3.17359752e-02, 3.16974673e-02, 3.36623989e-02, 3.60674770e-02,\n",
              "       3.93605855e-02, 4.66648597e-02, 4.55905854e-02, 4.45351099e-02,\n",
              "       4.52710157e-02, 4.44856649e-02, 4.48779377e-02, 3.76297894e-02,\n",
              "       3.41882488e-02, 3.32437113e-02, 3.22727301e-02, 2.66862149e-02,\n",
              "       2.15127824e-02, 1.86590100e-02, 1.69209088e-02, 1.46316254e-02,\n",
              "       1.06848218e-02, 1.03040075e-02, 8.75397213e-03, 8.10737471e-03,\n",
              "       6.99217956e-03, 5.87140744e-03, 5.34062158e-03, 4.97459552e-03,\n",
              "       4.90484983e-03, 4.34013472e-03, 4.22412249e-03, 3.49813402e-03,\n",
              "       3.39696340e-03, 3.20921826e-03, 2.66355309e-03, 2.35120259e-03,\n",
              "       2.09589056e-03, 1.84113096e-03, 1.66148176e-03, 1.45535998e-03,\n",
              "       1.32365013e-03, 1.16740560e-03, 1.14278615e-03, 1.01303832e-03,\n",
              "       9.86684715e-04, 9.42114133e-04, 9.23602237e-04, 8.75774317e-04,\n",
              "       8.54016050e-04, 9.69264375e-04, 1.02020217e-03, 1.05278091e-03,\n",
              "       1.09505118e-03, 1.14502441e-03, 1.29002447e-03, 1.49417254e-03,\n",
              "       1.58953963e-03, 2.03122642e-03, 2.17871122e-03, 2.08447987e-03,\n",
              "       2.05352828e-03, 1.98392999e-03, 1.88278144e-03, 1.96998958e-03,\n",
              "       2.19320267e-03, 2.19580243e-03, 2.26818811e-03, 2.25432934e-03,\n",
              "       2.31009024e-03, 2.14154197e-03, 2.26197331e-03, 2.46950437e-03,\n",
              "       2.29166230e-03, 2.38978267e-03, 2.48660309e-03, 2.41316450e-03,\n",
              "       2.66991677e-03, 2.71239585e-03, 3.07264569e-03, 2.87034405e-03,\n",
              "       2.96093432e-03, 2.81782534e-03, 3.13183984e-03, 3.09539874e-03,\n",
              "       3.12029604e-03, 3.51628069e-03, 3.34654085e-03, 3.01240621e-03,\n",
              "       2.89929811e-03, 2.84942366e-03, 3.18160715e-03, 3.33077091e-03,\n",
              "       3.53255334e-03, 3.66638530e-03, 3.92691675e-03, 4.39830649e-03,\n",
              "       4.32276862e-03, 4.48840734e-03, 4.77813047e-03, 4.57838074e-03,\n",
              "       4.44409741e-03, 4.62494622e-03, 5.41911026e-03, 6.01992525e-03,\n",
              "       6.51782578e-03, 7.14251841e-03, 8.67501059e-03, 9.81592211e-03,\n",
              "       1.08582990e-02, 1.14280971e-02, 1.18620225e-02, 1.23549329e-02,\n",
              "       1.14451040e-02, 1.12942507e-02, 1.21232367e-02, 1.19575828e-02,\n",
              "       1.20594829e-02, 1.37038084e-02, 1.54035813e-02, 1.76075989e-02,\n",
              "       1.83755970e-02, 2.22865426e-02, 2.58388545e-02, 2.89871367e-02,\n",
              "       3.15735510e-02, 3.78590343e-02, 4.64862937e-02, 5.86777851e-02,\n",
              "       7.00682294e-02, 7.99396202e-02, 9.33197329e-02, 9.81795842e-02,\n",
              "       1.08270285e-01, 1.15246034e-01, 1.36063006e-01, 1.54171650e-01,\n",
              "       1.72470123e-01, 1.98048459e-01, 2.14683519e-01, 2.21101560e-01,\n",
              "       2.28404457e-01, 2.39881098e-01, 2.61238392e-01, 2.70811017e-01,\n",
              "       2.67603622e-01, 2.70179087e-01, 2.77960439e-01, 2.88565199e-01,\n",
              "       2.92763673e-01, 2.95927271e-01, 2.84343918e-01, 2.56402567e-01,\n",
              "       2.29009215e-01, 1.88695527e-01, 1.44962523e-01, 1.21436729e-01,\n",
              "       1.12943382e-01, 1.05548097e-01, 1.03153848e-01, 8.47348551e-02,\n",
              "       6.71978654e-02, 5.25030960e-02, 4.57061805e-02, 3.48016853e-02,\n",
              "       2.69828897e-02, 2.21726495e-02, 1.98742816e-02, 1.80000691e-02,\n",
              "       1.79622905e-02, 1.75346501e-02, 1.74064626e-02, 1.83371540e-02,\n",
              "       1.73355725e-02, 1.74229654e-02, 1.55887623e-02, 1.60859131e-02,\n",
              "       1.50448287e-02, 1.53496987e-02, 1.36672631e-02, 1.20015495e-02,\n",
              "       1.26620028e-02, 1.23146511e-02, 1.26717763e-02, 1.25947652e-02,\n",
              "       1.25247391e-02, 1.21955418e-02, 1.11948120e-02, 1.08374058e-02,\n",
              "       1.03627265e-02, 9.09042872e-03, 9.24511195e-03, 9.26250056e-03,\n",
              "       8.91884326e-03, 8.28342907e-03, 7.75005934e-03, 7.90432752e-03,\n",
              "       8.05650321e-03, 7.55113750e-03, 8.19847817e-03, 8.74659732e-03,\n",
              "       8.42221383e-03, 8.38065097e-03, 8.15963694e-03, 9.02961859e-03,\n",
              "       9.50886256e-03, 9.81929725e-03, 9.77513663e-03, 1.08213991e-02,\n",
              "       1.17003283e-02, 1.17743395e-02, 1.35126425e-02, 1.34609657e-02,\n",
              "       1.42705246e-02, 1.47997759e-02, 1.46593608e-02, 1.56743942e-02,\n",
              "       1.51290899e-02, 1.62487193e-02, 1.59755851e-02, 1.64697845e-02,\n",
              "       1.61683997e-02, 1.68336425e-02, 1.69824773e-02, 1.99240400e-02,\n",
              "       2.31166641e-02, 2.75966953e-02, 3.03371844e-02, 3.52362292e-02,\n",
              "       3.96784358e-02, 4.63286404e-02, 6.02616909e-02, 5.46399286e-02,\n",
              "       6.07223275e-02, 6.49177985e-02, 6.93155533e-02, 7.16608916e-02,\n",
              "       7.87591455e-02, 7.89109889e-02, 7.89395390e-02, 8.41499435e-02,\n",
              "       8.83485039e-02, 8.95295053e-02, 9.08858972e-02, 9.64190507e-02,\n",
              "       1.05042582e-01, 1.09255748e-01, 1.22742577e-01, 1.40032437e-01,\n",
              "       1.60906044e-01, 1.80367526e-01, 2.07768653e-01, 2.41493228e-01,\n",
              "       2.84397386e-01, 3.29355723e-01, 3.72000731e-01, 4.12833750e-01,\n",
              "       4.51685136e-01, 4.87681304e-01, 5.25567574e-01, 5.60834377e-01,\n",
              "       5.95128334e-01, 6.24914690e-01, 6.50480741e-01, 6.71627025e-01,\n",
              "       6.93457903e-01, 7.15966515e-01, 7.37835826e-01, 7.59952332e-01,\n",
              "       7.80384645e-01, 7.95941613e-01, 8.08362921e-01, 8.20274050e-01,\n",
              "       8.37430561e-01, 8.53879794e-01, 8.70226116e-01, 8.86357236e-01,\n",
              "       9.02198242e-01, 9.20578007e-01, 9.47678719e-01, 9.76623416e-01,\n",
              "       1.00764116e+00, 1.04539730e+00, 1.09681516e+00, 1.16178632e+00,\n",
              "       1.23380543e+00, 1.31144434e+00, 1.38729908e+00, 1.46236385e+00,\n",
              "       1.52314558e+00, 1.56709895e+00, 1.59899740e+00, 1.60704357e+00,\n",
              "       1.57999703e+00, 1.51821493e+00, 1.42143501e+00, 1.26992045e+00,\n",
              "       1.06772742e+00, 8.31829029e-01, 5.67240146e-01, 3.47160020e-01,\n",
              "       2.04359586e-01, 1.33811563e-01, 9.75005387e-02, 8.14941093e-02,\n",
              "       6.55504722e-02, 4.75077588e-02, 3.71230651e-02, 2.82239799e-02,\n",
              "       2.53197472e-02, 2.29708361e-02, 2.22005280e-02, 2.00467347e-02,\n",
              "       1.85902940e-02, 1.60671296e-02, 1.76432574e-02, 1.80825964e-02,\n",
              "       1.80926414e-02, 1.89114946e-02, 1.96867816e-02, 2.04359457e-02,\n",
              "       2.01058197e-02, 2.01623002e-02, 2.02499803e-02, 1.96139135e-02,\n",
              "       1.95589321e-02, 1.85032388e-02, 1.97476464e-02, 2.18238057e-02,\n",
              "       2.27193528e-02, 2.41543903e-02, 2.60760189e-02, 2.77028539e-02,\n",
              "       3.34143732e-02, 3.24009170e-02, 3.64767565e-02, 4.01742139e-02,\n",
              "       4.03568819e-02, 4.07517359e-02, 4.72678078e-02, 4.77032936e-02,\n",
              "       4.84051463e-02, 4.88465062e-02, 5.20769012e-02, 5.31827300e-02,\n",
              "       5.68595801e-02, 6.05481336e-02, 6.42472077e-02, 6.89151029e-02,\n",
              "       6.56080691e-02, 7.05399042e-02, 7.73390881e-02, 8.32436867e-02,\n",
              "       7.98167497e-02, 7.94663853e-02, 8.74717802e-02, 9.30868479e-02,\n",
              "       1.01211510e-01, 1.10395171e-01, 1.10458819e-01, 1.04015474e-01,\n",
              "       1.05436258e-01, 1.10757851e-01, 1.09054945e-01, 1.14426469e-01,\n",
              "       1.14625257e-01, 1.14400796e-01, 9.94736966e-02, 9.91313228e-02,\n",
              "       8.53474076e-02, 7.45794711e-02, 5.87855458e-02, 5.20747095e-02,\n",
              "       4.60229484e-02, 4.27910276e-02, 3.99456361e-02, 3.45483600e-02,\n",
              "       3.02540063e-02, 2.84428959e-02, 2.84275480e-02, 3.05168166e-02,\n",
              "       3.34458375e-02, 3.04391853e-02, 2.46773346e-02, 2.11595438e-02,\n",
              "       1.87034083e-02, 1.85153704e-02, 1.79403589e-02, 1.65616668e-02,\n",
              "       1.58071228e-02, 1.25738488e-02, 1.02949093e-02, 8.70428206e-03,\n",
              "       6.81182249e-03, 5.96986757e-03, 4.88105827e-03, 4.74546202e-03,\n",
              "       4.15830212e-03, 3.64663677e-03, 3.27393436e-03, 2.91911252e-03,\n",
              "       2.76113141e-03, 2.69257950e-03, 2.79642878e-03, 2.88027990e-03,\n",
              "       2.73000682e-03, 2.32945601e-03, 2.18558215e-03, 2.19266565e-03,\n",
              "       2.48326519e-03, 2.58716185e-03, 2.67512250e-03, 2.26428563e-03,\n",
              "       2.09078605e-03, 1.95194068e-03, 1.78870086e-03, 1.58544109e-03,\n",
              "       1.50647261e-03, 1.48094984e-03, 1.70825883e-03, 2.11981893e-03,\n",
              "       2.62252559e-03, 3.29658237e-03, 4.23805082e-03, 5.48121416e-03,\n",
              "       6.74538596e-03, 7.51761562e-03, 8.59728013e-03, 1.06631299e-02,\n",
              "       1.23174953e-02, 1.52690918e-02, 1.76449675e-02, 2.30021722e-02,\n",
              "       2.68478602e-02, 3.11066435e-02, 3.44740918e-02, 3.62109652e-02,\n",
              "       3.54192288e-02, 3.49095409e-02, 3.45182097e-02, 3.69968173e-02,\n",
              "       3.74834412e-02, 3.77247035e-02, 3.18564394e-02, 2.72753351e-02,\n",
              "       2.76929581e-02, 2.93852040e-02, 3.73850660e-02, 3.96613011e-02,\n",
              "       4.40223736e-02, 5.50778327e-02, 6.61145263e-02, 6.68620633e-02,\n",
              "       6.31611798e-02, 5.87088766e-02, 7.59741069e-02, 8.85029153e-02,\n",
              "       7.91344012e-02, 8.38747747e-02, 7.29349925e-02, 6.39496002e-02,\n",
              "       6.79518143e-02, 5.31260666e-02, 5.20772303e-02, 3.97207783e-02,\n",
              "       3.72743077e-02, 3.73247902e-02, 3.05815007e-02, 2.56346584e-02,\n",
              "       1.79391332e-02, 1.50001529e-02, 1.43932484e-02, 1.22942355e-02,\n",
              "       1.12976446e-02, 1.04321755e-02, 9.73426973e-03, 7.91472280e-03,\n",
              "       7.09029510e-03, 6.84525817e-03, 6.15223547e-03, 5.91708064e-03,\n",
              "       5.26528503e-03, 5.00042062e-03, 4.82230125e-03, 6.24524308e-03,\n",
              "       7.18870988e-03, 7.54024124e-03, 8.40621603e-03, 1.03796332e-02,\n",
              "       1.36602450e-02, 2.08639840e-02, 2.49564043e-02, 3.75704575e-02,\n",
              "       5.98551620e-02, 9.44091314e-02, 1.55256197e-01, 2.21234440e-01,\n",
              "       3.19001393e-01, 4.36619865e-01, 5.40308409e-01, 5.87812709e-01,\n",
              "       6.08386488e-01, 6.22584402e-01, 6.21507957e-01, 5.85115314e-01,\n",
              "       5.34577178e-01, 5.28692735e-01, 4.37886554e-01, 3.39009630e-01,\n",
              "       2.83636606e-01, 2.62859099e-01, 2.63737822e-01, 2.37524727e-01,\n",
              "       2.13680846e-01, 1.79901890e-01, 1.75711742e-01, 1.55634979e-01,\n",
              "       1.27013500e-01, 1.18484874e-01, 1.59697430e-01, 2.34124760e-01,\n",
              "       2.73328086e-01, 3.44033287e-01, 4.42422840e-01, 5.55417511e-01,\n",
              "       6.78336263e-01, 7.27162123e-01, 8.39013042e-01, 9.62316403e-01,\n",
              "       1.05482883e+00, 1.13911008e+00, 1.22106818e+00, 1.34909042e+00,\n",
              "       1.36457016e+00, 1.23556679e+00, 1.11562521e+00, 1.22538272e+00,\n",
              "       1.43161600e+00, 1.70650539e+00, 1.89032141e+00, 1.78916106e+00,\n",
              "       1.60418315e+00, 1.39444175e+00, 1.16918942e+00, 1.04245775e+00,\n",
              "       9.13773539e-01, 8.08777341e-01, 5.88821412e-01, 4.25355362e-01,\n",
              "       2.21264233e-01, 2.27057638e-01, 3.03572187e-01, 2.97024591e-01,\n",
              "       2.96378755e-01, 4.44375196e-01, 5.70322995e-01, 7.18292199e-01,\n",
              "       1.01366589e+00, 1.33568333e+00, 1.67838196e+00, 2.08020224e+00,\n",
              "       2.48243232e+00, 2.49367141e+00, 2.31152927e+00, 1.95578907e+00,\n",
              "       1.63148248e+00, 1.34955393e+00, 1.18863674e+00, 1.06274349e+00,\n",
              "       9.29317266e-01, 7.00754136e-01, 5.08986083e-01, 3.67237281e-01,\n",
              "       2.65235491e-01, 2.05710266e-01, 1.63055232e-01, 1.31972443e-01,\n",
              "       1.30282362e-01, 1.44914141e-01, 1.54678626e-01, 1.35568120e-01,\n",
              "       9.88032883e-02, 9.10980027e-02, 1.10011902e-01, 1.28708381e-01,\n",
              "       1.25213443e-01, 1.30146133e-01, 1.43357819e-01, 1.58852926e-01,\n",
              "       1.34553660e-01, 9.72021766e-02, 7.14476350e-02, 7.28045287e-02,\n",
              "       9.62881416e-02, 1.19364689e-01, 1.38529592e-01, 1.35740028e-01,\n",
              "       1.19488613e-01, 1.12443192e-01, 1.08944670e-01, 1.09179575e-01,\n",
              "       1.10560210e-01, 9.68178953e-02, 1.02731621e-01, 1.29264270e-01,\n",
              "       2.21912174e-01, 4.57894313e-01, 6.91321045e-01, 6.74912195e-01,\n",
              "       5.53026968e-01, 4.94772235e-01, 4.10314279e-01, 3.53277906e-01,\n",
              "       2.70074828e-01, 1.81753036e-01, 1.22275713e-01, 8.18366562e-02,\n",
              "       5.88607283e-02, 4.65371488e-02, 4.62625120e-02, 5.53597052e-02,\n",
              "       7.47701760e-02, 8.96182136e-02, 9.62370748e-02, 9.80739714e-02,\n",
              "       8.81239270e-02, 1.12822856e-01, 1.61891959e-01, 2.03098074e-01,\n",
              "       2.28309529e-01, 1.93778568e-01, 1.27885168e-01, 8.24084671e-02,\n",
              "       4.85072026e-02, 2.84863427e-02, 1.67132767e-02, 1.06442525e-02,\n",
              "       8.60938565e-03, 9.65155315e-03, 1.18040134e-02, 1.72500249e-02,\n",
              "       1.79567327e-02, 1.72177632e-02, 1.68721782e-02, 1.63440213e-02,\n",
              "       1.46773132e-02, 1.39490904e-02, 1.33632282e-02, 1.89006994e-02,\n",
              "       3.10831157e-02, 3.33449413e-02, 3.07493209e-02, 2.90491932e-02,\n",
              "       2.76932783e-02, 2.65544375e-02, 2.58563528e-02, 3.30734505e-02,\n",
              "       4.82352370e-02, 6.48433789e-02, 6.60946988e-02, 7.79274905e-02,\n",
              "       1.06230794e-01, 1.29379467e-01, 1.83559626e-01, 2.54325767e-01,\n",
              "       3.08338693e-01, 3.56113583e-01, 3.87660177e-01, 4.14106338e-01,\n",
              "       4.18705534e-01, 3.41001748e-01, 2.06267379e-01, 1.16626764e-01,\n",
              "       6.82958998e-02, 4.18509238e-02, 2.74238300e-02, 2.16955400e-02,\n",
              "       2.13734904e-02, 2.24564340e-02, 2.38927736e-02, 2.54867655e-02,\n",
              "       2.69215081e-02, 2.79388221e-02, 2.87587865e-02, 2.90661039e-02,\n",
              "       2.69870061e-02, 2.58066194e-02, 2.61633168e-02, 3.80632238e-02,\n",
              "       6.30895393e-02, 8.87905866e-02, 7.85072440e-02, 5.10131819e-02,\n",
              "       3.06638723e-02, 1.76730324e-02, 9.77731170e-03, 5.61146993e-03,\n",
              "       3.41962578e-03, 2.18751327e-03, 1.49754208e-03, 1.17283888e-03,\n",
              "       9.87599594e-04, 9.85526149e-04, 1.49837761e-03, 2.76506798e-03,\n",
              "       3.18527526e-03, 2.43775199e-03, 1.66452240e-03, 1.13727278e-03,\n",
              "       8.27564875e-04, 6.22620874e-04, 4.85814394e-04, 3.94646700e-04,\n",
              "       3.36228270e-04, 2.98689461e-04, 2.75425636e-04, 2.63426589e-04,\n",
              "       3.58915956e-04, 8.23751260e-04, 3.86779056e-03, 1.53326644e-02,\n",
              "       3.73929654e-02, 5.60297144e-02, 6.74470925e-02, 6.13904598e-02,\n",
              "       5.41070854e-02, 6.74262453e-02, 1.43444819e-01, 3.29317885e-01,\n",
              "       5.44656613e-01, 9.46346041e-01, 1.52509519e+00, 1.79359175e+00,\n",
              "       1.75360010e+00, 1.59989968e+00, 1.29286442e+00, 9.55642063e-01,\n",
              "       6.88114257e-01, 5.16247299e-01, 4.02371312e-01, 3.37219471e-01,\n",
              "       2.86578249e-01, 2.18123487e-01, 1.69318786e-01, 1.49147986e-01,\n",
              "       1.38329407e-01, 1.57113071e-01, 2.11253855e-01, 2.60577750e-01,\n",
              "       3.94516550e-01, 5.86192165e-01, 6.42569658e-01, 6.60351638e-01,\n",
              "       6.94540739e-01, 6.98041692e-01, 6.96182539e-01, 6.48737729e-01,\n",
              "       6.84153405e-01, 8.46060846e-01, 1.02975901e+00, 1.36715372e+00,\n",
              "       1.84151553e+00, 2.14706776e+00, 1.95392526e+00, 1.54551883e+00,\n",
              "       1.15608189e+00, 8.12695278e-01, 5.54231752e-01, 4.05833863e-01,\n",
              "       2.82800899e-01, 1.92824936e-01, 1.37224220e-01, 1.05756715e-01,\n",
              "       9.18655758e-02, 1.10523264e-01, 1.54394050e-01, 1.98486429e-01,\n",
              "       2.36811806e-01, 2.93797742e-01, 3.63436889e-01, 4.25108883e-01,\n",
              "       5.30179609e-01, 5.85529250e-01, 6.77575816e-01, 1.00376807e+00,\n",
              "       1.38620880e+00, 1.67535962e+00, 1.77026630e+00, 1.79177460e+00,\n",
              "       1.80010857e+00, 1.78024634e+00, 1.76347825e+00, 1.74868359e+00,\n",
              "       1.74960811e+00, 1.73769614e+00, 1.64985725e+00, 1.59030880e+00,\n",
              "       1.50524458e+00, 1.52333291e+00, 1.61657442e+00, 1.68727389e+00,\n",
              "       1.60129671e+00, 1.63461501e+00, 1.74918901e+00, 1.85540173e+00,\n",
              "       1.92149299e+00, 1.94837140e+00, 2.17043991e+00, 2.29046143e+00,\n",
              "       2.22416569e+00, 1.91306283e+00, 1.54231653e+00, 1.21346411e+00,\n",
              "       8.85581919e-01, 6.63625747e-01, 6.22721708e-01, 6.33781052e-01,\n",
              "       6.20197406e-01, 7.07334860e-01, 7.66066993e-01, 8.33660620e-01,\n",
              "       9.52469155e-01, 1.04609896e+00, 1.10794238e+00, 9.64874677e-01,\n",
              "       8.30526775e-01, 9.40535729e-01, 1.06931125e+00, 1.23603637e+00,\n",
              "       1.38095299e+00, 1.58194464e+00, 1.71199154e+00, 1.76280224e+00,\n",
              "       1.86881528e+00, 1.94286683e+00, 1.92556376e+00, 1.88751025e+00,\n",
              "       1.90354452e+00, 1.89860040e+00, 1.88825920e+00, 1.89347231e+00,\n",
              "       1.81494959e+00, 1.70252590e+00, 1.61990289e+00, 1.51140409e+00,\n",
              "       1.38963750e+00, 1.32561034e+00, 1.44612393e+00, 1.64734646e+00,\n",
              "       1.82976443e+00, 1.99466338e+00, 2.10233942e+00, 2.11805319e+00,\n",
              "       2.10447295e+00, 2.09197195e+00, 2.08819588e+00])"
            ]
          },
          "metadata": {},
          "execution_count": 9
        }
      ]
    },
    {
      "cell_type": "markdown",
      "source": [
        "Divisão da base em conjunto de dados para treinamento e conjunto de dados para teste"
      ],
      "metadata": {
        "id": "AEXgrDTSAkAD"
      }
    },
    {
      "cell_type": "code",
      "source": [
        "X_base_treinamento, X_base_teste, Y_base_treinamento, Y_base_teste = train_test_split(X_base, Y_base, test_size = 0.25)"
      ],
      "metadata": {
        "id": "rS21meuhAgnl"
      },
      "execution_count": null,
      "outputs": []
    },
    {
      "cell_type": "code",
      "source": [
        "X_base_treinamento.shape, X_base_teste.shape"
      ],
      "metadata": {
        "colab": {
          "base_uri": "https://localhost:8080/"
        },
        "id": "rv5YGMp2BczN",
        "outputId": "c41273ea-7128-4d18-dd16-a08af6cdfc59"
      },
      "execution_count": null,
      "outputs": [
        {
          "output_type": "execute_result",
          "data": {
            "text/plain": [
              "((749, 10), (250, 10))"
            ]
          },
          "metadata": {},
          "execution_count": 11
        }
      ]
    },
    {
      "cell_type": "markdown",
      "source": [
        "Treinamento do algoritmo de aprendizado de máquina"
      ],
      "metadata": {
        "id": "lzkps7JHCr1j"
      }
    },
    {
      "cell_type": "code",
      "source": [
        "regressor_base = LinearRegression()\n",
        "regressor_base.fit(X_base_treinamento, Y_base_treinamento)"
      ],
      "metadata": {
        "colab": {
          "base_uri": "https://localhost:8080/"
        },
        "id": "va4uPL6QCZ68",
        "outputId": "9956fd14-3562-4006-af5b-a09050242e92"
      },
      "execution_count": null,
      "outputs": [
        {
          "output_type": "execute_result",
          "data": {
            "text/plain": [
              "LinearRegression()"
            ]
          },
          "metadata": {},
          "execution_count": 12
        }
      ]
    },
    {
      "cell_type": "markdown",
      "source": [
        "Determinação dos parâmetros da regressão linear múltipla"
      ],
      "metadata": {
        "id": "jqVK7YZwDlGr"
      }
    },
    {
      "cell_type": "code",
      "source": [
        "regressor_base.intercept_"
      ],
      "metadata": {
        "colab": {
          "base_uri": "https://localhost:8080/"
        },
        "id": "MbqXzfjzDTMs",
        "outputId": "10301dda-3cf4-4ca5-a701-12e1739d2cc9"
      },
      "execution_count": null,
      "outputs": [
        {
          "output_type": "execute_result",
          "data": {
            "text/plain": [
              "-0.31644828083436166"
            ]
          },
          "metadata": {},
          "execution_count": 13
        }
      ]
    },
    {
      "cell_type": "code",
      "source": [
        "regressor_base.coef_"
      ],
      "metadata": {
        "colab": {
          "base_uri": "https://localhost:8080/"
        },
        "id": "3yB2eD3DDa3M",
        "outputId": "7e157895-011f-4969-8955-4f24937171dd"
      },
      "execution_count": null,
      "outputs": [
        {
          "output_type": "execute_result",
          "data": {
            "text/plain": [
              "array([-2.39336578e+00,  1.90560032e+00, -1.80364885e-02, -4.13524907e-05,\n",
              "       -1.20249998e-02,  1.23048831e-02, -3.33378847e-04,  3.02741176e-04,\n",
              "       -8.43456961e-01,  1.82152255e+00])"
            ]
          },
          "metadata": {},
          "execution_count": 14
        }
      ]
    },
    {
      "cell_type": "markdown",
      "source": [
        "Visualização das métricas de desempenho do algoritmo"
      ],
      "metadata": {
        "id": "7oZjJxTkDo57"
      }
    },
    {
      "cell_type": "markdown",
      "source": [
        "Correlação (R²) entre os atributos de entrada e saída da base de dados de treinamento"
      ],
      "metadata": {
        "id": "7YSI-_aUFX15"
      }
    },
    {
      "cell_type": "code",
      "source": [
        "regressor_base.score(X_base_treinamento,Y_base_treinamento)"
      ],
      "metadata": {
        "colab": {
          "base_uri": "https://localhost:8080/"
        },
        "id": "iZv2pGG7DkIs",
        "outputId": "038f7425-5f00-4124-e797-86ae18829dbe"
      },
      "execution_count": null,
      "outputs": [
        {
          "output_type": "execute_result",
          "data": {
            "text/plain": [
              "0.9931284307735923"
            ]
          },
          "metadata": {},
          "execution_count": 15
        }
      ]
    },
    {
      "cell_type": "code",
      "source": [
        "regressor_base.score(X_base_teste, Y_base_teste)"
      ],
      "metadata": {
        "colab": {
          "base_uri": "https://localhost:8080/"
        },
        "id": "oSlbmkgqFnmE",
        "outputId": "2420d214-230f-4896-a4a2-9bdb5539dd7a"
      },
      "execution_count": null,
      "outputs": [
        {
          "output_type": "execute_result",
          "data": {
            "text/plain": [
              "0.9942197350151372"
            ]
          },
          "metadata": {},
          "execution_count": 16
        }
      ]
    },
    {
      "cell_type": "markdown",
      "source": [
        "Utilizando o algoritmo para previsão de novos valores, temos:"
      ],
      "metadata": {
        "id": "mJpmAEyVF6dh"
      }
    },
    {
      "cell_type": "code",
      "source": [
        "previsoes = regressor_base.predict(X_base_teste)"
      ],
      "metadata": {
        "id": "CGklaW2JF01S"
      },
      "execution_count": null,
      "outputs": []
    },
    {
      "cell_type": "markdown",
      "source": [
        "Cálculo de erro absoluto médio entre os valores de teste e os valores previstos de Y"
      ],
      "metadata": {
        "id": "hf7VLCLkG3yZ"
      }
    },
    {
      "cell_type": "code",
      "source": [
        "mean_squared_error(Y_base_teste, previsoes)"
      ],
      "metadata": {
        "colab": {
          "base_uri": "https://localhost:8080/"
        },
        "id": "8mr9nkEHGFh0",
        "outputId": "817a46cc-f2c1-4a86-fb08-d98156c7c665"
      },
      "execution_count": null,
      "outputs": [
        {
          "output_type": "execute_result",
          "data": {
            "text/plain": [
              "0.0014005299529403718"
            ]
          },
          "metadata": {},
          "execution_count": 63
        }
      ]
    },
    {
      "cell_type": "markdown",
      "source": [
        "Regressão com vetores de suporte (SVR)"
      ],
      "metadata": {
        "id": "wRQlrbQ4HQZd"
      }
    },
    {
      "cell_type": "code",
      "source": [
        "X_base_treinamento.shape"
      ],
      "metadata": {
        "colab": {
          "base_uri": "https://localhost:8080/"
        },
        "id": "JyPx8_HxHW1p",
        "outputId": "29c50aa5-f66c-478f-b28e-28e027590d7a"
      },
      "execution_count": null,
      "outputs": [
        {
          "output_type": "execute_result",
          "data": {
            "text/plain": [
              "(749, 10)"
            ]
          },
          "metadata": {},
          "execution_count": 20
        }
      ]
    },
    {
      "cell_type": "code",
      "source": [
        "X_base_teste.shape"
      ],
      "metadata": {
        "id": "j-1cdgF_HeAK"
      },
      "execution_count": null,
      "outputs": []
    },
    {
      "cell_type": "code",
      "source": [
        "Y_base_treinamento.shape"
      ],
      "metadata": {
        "colab": {
          "base_uri": "https://localhost:8080/"
        },
        "id": "vp7SE7d4HgTR",
        "outputId": "2f458087-4c1e-4795-835c-c9be915176f3"
      },
      "execution_count": null,
      "outputs": [
        {
          "output_type": "execute_result",
          "data": {
            "text/plain": [
              "(749,)"
            ]
          },
          "metadata": {},
          "execution_count": 22
        }
      ]
    },
    {
      "cell_type": "code",
      "source": [
        "Y_base_teste.shape"
      ],
      "metadata": {
        "colab": {
          "base_uri": "https://localhost:8080/"
        },
        "id": "AH2rhca1Hjqy",
        "outputId": "2df9e428-a9e5-4133-bd11-fc47e17bf2b7"
      },
      "execution_count": null,
      "outputs": [
        {
          "output_type": "execute_result",
          "data": {
            "text/plain": [
              "(250,)"
            ]
          },
          "metadata": {},
          "execution_count": 23
        }
      ]
    },
    {
      "cell_type": "markdown",
      "source": [
        "Para utilização do SVM, precisamos aplicar o escalonamento dos dados"
      ],
      "metadata": {
        "id": "pViFXkZdHuoh"
      }
    },
    {
      "cell_type": "code",
      "source": [
        "from sklearn.preprocessing import StandardScaler"
      ],
      "metadata": {
        "id": "QHxSpWflHmid"
      },
      "execution_count": null,
      "outputs": []
    },
    {
      "cell_type": "code",
      "source": [
        "scaler_x_base = StandardScaler()\n",
        "X_base_treinamento_scaled = scaler_x_base.fit_transform(X_base_treinamento)\n",
        "scaler_y_base = StandardScaler()\n",
        "Y_base_treinamento_scaled = scaler_y_base.fit_transform(Y_base_treinamento.reshape(-1,1)) #reshape(-1,1) transforma converte de vetor para matriz"
      ],
      "metadata": {
        "id": "uQO0aDZgH5t6"
      },
      "execution_count": null,
      "outputs": []
    },
    {
      "cell_type": "code",
      "source": [
        "X_base_teste_scaled = scaler_x_base.fit_transform(X_base_teste)\n",
        "Y_base_teste_scaled = scaler_y_base.fit_transform(Y_base_teste.reshape(-1,1))"
      ],
      "metadata": {
        "id": "hW99Q80QKCmR"
      },
      "execution_count": null,
      "outputs": []
    },
    {
      "cell_type": "markdown",
      "source": [
        "Construção da rede"
      ],
      "metadata": {
        "id": "lv_HO_CdLlAw"
      }
    },
    {
      "cell_type": "code",
      "source": [
        "from sklearn.svm import SVR"
      ],
      "metadata": {
        "id": "pUH6Sl5rLrwC"
      },
      "execution_count": null,
      "outputs": []
    },
    {
      "cell_type": "code",
      "source": [
        "rbf = SVR(kernel='rbf', gamma='scale', tol=0.001, C=1.0, epsilon=0.1)\n",
        "\n",
        "linear = SVR(kernel='linear', tol=0.001, C=1.0, epsilon=0.1)\n",
        "\n",
        "poly = SVR(kernel='poly', degree=3, gamma='scale', coef0=0.0, tol=0.001, C=1.0,\n",
        "           epsilon=0.1)\n",
        "\n",
        "sigmoid = SVR(kernel='sigmoid', gamma='scale', coef0=0.0, tol=0.001, C=1.0,\n",
        "              epsilon=0.1)"
      ],
      "metadata": {
        "id": "67VHP1cbLgqB"
      },
      "execution_count": null,
      "outputs": []
    },
    {
      "cell_type": "markdown",
      "source": [
        "Treinamento da rede"
      ],
      "metadata": {
        "id": "8UozjSsTLwGA"
      }
    },
    {
      "cell_type": "code",
      "source": [
        "rbf.fit(X_base_treinamento, Y_base_treinamento.ravel())\n",
        "linear.fit(X_base_treinamento, Y_base_treinamento.ravel())\n",
        "poly.fit(X_base_treinamento, Y_base_treinamento.ravel())\n",
        "sigmoid.fit(X_base_treinamento, Y_base_treinamento.ravel())"
      ],
      "metadata": {
        "colab": {
          "base_uri": "https://localhost:8080/"
        },
        "id": "aVMHx1RbLirZ",
        "outputId": "37229149-2240-4ece-bf8c-32302cde11b5"
      },
      "execution_count": null,
      "outputs": [
        {
          "output_type": "execute_result",
          "data": {
            "text/plain": [
              "SVR(kernel='sigmoid')"
            ]
          },
          "metadata": {},
          "execution_count": 29
        }
      ]
    },
    {
      "cell_type": "markdown",
      "source": [
        "Geração de previsões utilizando os algoritmos treinados"
      ],
      "metadata": {
        "id": "uRjLzygZMxca"
      }
    },
    {
      "cell_type": "code",
      "source": [
        "y_previsoes_rbf = rbf.predict(X_base_teste)\n",
        "y_previsoes_linear = linear.predict(X_base_teste)\n",
        "y_previsoes_poly = poly.predict(X_base_teste)\n",
        "y_previsoes_sigmoid = sigmoid.predict(X_base_teste)"
      ],
      "metadata": {
        "id": "Z9hen1ClM1gB"
      },
      "execution_count": null,
      "outputs": []
    },
    {
      "cell_type": "markdown",
      "source": [
        "Visualização das métricas"
      ],
      "metadata": {
        "id": "eYwoaRQUNJ2Y"
      }
    },
    {
      "cell_type": "markdown",
      "source": [
        "Calculando a correlação entre os atributos de entrada e saída na base de dados de teste (R²)"
      ],
      "metadata": {
        "id": "cUFWsqEuNtGv"
      }
    },
    {
      "cell_type": "code",
      "source": [
        "score_rbf = rbf.score(X_base_teste, Y_base_teste)\n",
        "score_rbf\n"
      ],
      "metadata": {
        "colab": {
          "base_uri": "https://localhost:8080/"
        },
        "id": "LZKICLndNNrW",
        "outputId": "1f57d1bd-39b3-4d32-8db1-0148a78a4d4e"
      },
      "execution_count": null,
      "outputs": [
        {
          "output_type": "execute_result",
          "data": {
            "text/plain": [
              "0.09037688650114306"
            ]
          },
          "metadata": {},
          "execution_count": 38
        }
      ]
    },
    {
      "cell_type": "code",
      "source": [
        "score_linear = linear.score(X_base_teste, Y_base_teste)\n",
        "score_linear\n"
      ],
      "metadata": {
        "colab": {
          "base_uri": "https://localhost:8080/"
        },
        "id": "OupVXRQmOeZO",
        "outputId": "e1591b6e-d280-48f2-f3dd-02e4efe45de1"
      },
      "execution_count": null,
      "outputs": [
        {
          "output_type": "execute_result",
          "data": {
            "text/plain": [
              "0.9856325436329397"
            ]
          },
          "metadata": {},
          "execution_count": 39
        }
      ]
    },
    {
      "cell_type": "code",
      "source": [
        "score_poly = poly.score(X_base_teste, Y_base_teste)\n",
        "score_poly"
      ],
      "metadata": {
        "colab": {
          "base_uri": "https://localhost:8080/"
        },
        "id": "CDzHMGS6OgjJ",
        "outputId": "ffeb545e-5317-4d8e-e01c-caa6b37e1d7f"
      },
      "execution_count": null,
      "outputs": [
        {
          "output_type": "execute_result",
          "data": {
            "text/plain": [
              "-0.011233117191149278"
            ]
          },
          "metadata": {},
          "execution_count": 40
        }
      ]
    },
    {
      "cell_type": "code",
      "source": [
        "score_sigmoid = sigmoid.score(X_base_teste, Y_base_teste)\n",
        "score_sigmoid"
      ],
      "metadata": {
        "colab": {
          "base_uri": "https://localhost:8080/"
        },
        "id": "5D8_SdVDO5lw",
        "outputId": "c0c3845c-2084-4c19-a0a2-db99899a92f1"
      },
      "execution_count": null,
      "outputs": [
        {
          "output_type": "execute_result",
          "data": {
            "text/plain": [
              "-156.0905204745418"
            ]
          },
          "metadata": {},
          "execution_count": 41
        }
      ]
    },
    {
      "cell_type": "code",
      "source": [
        "from sklearn.metrics import mean_squared_error"
      ],
      "metadata": {
        "id": "-ySwrZRJNqnA"
      },
      "execution_count": null,
      "outputs": []
    },
    {
      "cell_type": "code",
      "source": [
        "RMSE_rbf = mean_squared_error(Y_base_teste, y_previsoes_rbf, squared=False)\n",
        "RMSE_rbf"
      ],
      "metadata": {
        "colab": {
          "base_uri": "https://localhost:8080/"
        },
        "id": "U_a7BLGpPUAc",
        "outputId": "40d36a9b-f363-41d7-af6d-a9af25766da2"
      },
      "execution_count": null,
      "outputs": [
        {
          "output_type": "execute_result",
          "data": {
            "text/plain": [
              "0.4694648382223985"
            ]
          },
          "metadata": {},
          "execution_count": 46
        }
      ]
    },
    {
      "cell_type": "code",
      "source": [
        "RMSE_linear = mean_squared_error(Y_base_teste, y_previsoes_linear, squared=False)\n",
        "RMSE_linear"
      ],
      "metadata": {
        "colab": {
          "base_uri": "https://localhost:8080/"
        },
        "id": "qp-yp5jlPWwo",
        "outputId": "422a2a5c-b38b-44e4-811a-e0a60743499e"
      },
      "execution_count": null,
      "outputs": [
        {
          "output_type": "execute_result",
          "data": {
            "text/plain": [
              "0.05900139364629734"
            ]
          },
          "metadata": {},
          "execution_count": 47
        }
      ]
    },
    {
      "cell_type": "code",
      "source": [
        "RMSE_poly = mean_squared_error(Y_base_teste, y_previsoes_poly, squared=False)\n",
        "RMSE_poly"
      ],
      "metadata": {
        "colab": {
          "base_uri": "https://localhost:8080/"
        },
        "id": "4MLRLOCcPZeq",
        "outputId": "ac3555ad-4737-425c-ee3c-50d8e48cffae"
      },
      "execution_count": null,
      "outputs": [
        {
          "output_type": "execute_result",
          "data": {
            "text/plain": [
              "0.4949917590934903"
            ]
          },
          "metadata": {},
          "execution_count": 48
        }
      ]
    },
    {
      "cell_type": "code",
      "source": [
        "RMSE_sigmoid = mean_squared_error(Y_base_teste, y_previsoes_sigmoid, squared=False)\n",
        "RMSE_sigmoid"
      ],
      "metadata": {
        "colab": {
          "base_uri": "https://localhost:8080/"
        },
        "id": "2ZTyTdkMPcbz",
        "outputId": "0b365b2e-4aa1-45ba-c671-d5aad35a6ac9"
      },
      "execution_count": null,
      "outputs": [
        {
          "output_type": "execute_result",
          "data": {
            "text/plain": [
              "6.169462316999149"
            ]
          },
          "metadata": {},
          "execution_count": 49
        }
      ]
    },
    {
      "cell_type": "code",
      "source": [
        "fig, (ax1, ax2, ax3, ax4) = plt.subplots(1, 4, figsize=(20, 6))\n",
        "\n",
        "ax1.set_title(f'Treino RBF: Score={round(score_rbf, 3)} '\n",
        "              f'RMSE={round(RMSE_rbf, 3)}')\n",
        "ax1.scatter(Y_base_teste, y_previsoes_rbf)\n",
        "ax1.plot([min(Y_base_teste), max(y_previsoes_rbf)], [min(Y_base_teste), max(y_previsoes_rbf)], 'k')\n",
        "ax1.set_xlabel('Target')\n",
        "ax1.set_ylabel('Predict')\n",
        "\n",
        "ax2.set_title(f'Treino Linear: Score={round(score_linear, 3)} '\n",
        "              f'RMSE={round(RMSE_linear, 3)}')\n",
        "ax2.scatter(Y_base_teste, y_previsoes_linear)\n",
        "ax2.plot([min(Y_base_teste), max(y_previsoes_linear)], [min(Y_base_teste), max(y_previsoes_linear)], 'k')\n",
        "ax2.set_xlabel('Target')\n",
        "ax2.set_ylabel('Predict')\n",
        "\n",
        "ax3.set_title(f'Treino Poly: Score={round(score_poly, 3)} '\n",
        "              f'RMSE={round(RMSE_poly, 3)}')\n",
        "ax3.scatter(Y_base_teste, y_previsoes_poly)\n",
        "ax3.plot([min(Y_base_teste), max(y_previsoes_poly)], [min(Y_base_teste), max(y_previsoes_poly)], 'k')\n",
        "ax3.set_xlabel('Target')\n",
        "ax3.set_ylabel('Predict')\n",
        "\n",
        "ax4.set_title(f'Treino Sigmoid: Score={round(score_sigmoid, 3)} '\n",
        "              f'RMSE={round(RMSE_sigmoid, 3)}')\n",
        "ax4.scatter(Y_base_teste, y_previsoes_sigmoid)\n",
        "ax4.plot([min(Y_base_teste), max(y_previsoes_sigmoid)], [min(Y_base_teste), max(y_previsoes_sigmoid)], 'k')\n",
        "ax4.set_xlabel('Target')\n",
        "ax4.set_ylabel('Predict')\n",
        "plt.show()\n"
      ],
      "metadata": {
        "colab": {
          "base_uri": "https://localhost:8080/",
          "height": 378
        },
        "id": "iOL9axkzPmDL",
        "outputId": "f0c8bcb6-7392-4bb0-85cd-e4686357cd80"
      },
      "execution_count": null,
      "outputs": [
        {
          "output_type": "display_data",
          "data": {
            "image/png": "[encoded data removed]",
            "text/plain": [
              "<Figure size 1440x432 with 4 Axes>"
            ]
          },
          "metadata": {
            "needs_background": "light"
          }
        }
      ]
    }
  ]
}